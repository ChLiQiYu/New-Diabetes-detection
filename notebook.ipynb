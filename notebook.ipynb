{
 "cells": [
  {
   "cell_type": "code",
   "execution_count": null,
   "id": "bd5d990a-b4bb-41c7-8404-6343aaf5b712",
   "metadata": {},
   "outputs": [],
   "source": [
    "# Import necessary libraries\n",
    "from imblearn.over_sampling import SMOTE  # For handling class imbalance using SMOTE (Synthetic Minority Over-sampling Technique)\n",
    "import pandas as pd  # For data manipulation and reading CSV files\n",
    "import numpy as np  # For numerical operations\n",
    "from sklearn.model_selection import train_test_split  # For splitting the dataset into train and test sets\n",
    "from sklearn.preprocessing import StandardScaler  # For feature scaling (standardization)\n",
    "from sklearn.ensemble import RandomForestClassifier  # For Random Forest classification model\n",
    "from sklearn.neighbors import KNeighborsClassifier  # For K-Nearest Neighbors classification model\n",
    "from sklearn.metrics import f1_score  # For calculating F1 score to evaluate models\n",
    "import lightgbm as lgb  # For LightGBM classification model (Gradient Boosting Decision Trees)"
   ]
  },
  {
   "cell_type": "code",
   "execution_count": null,
   "id": "fd97f03e-decc-458c-adb2-5439860f6213",
   "metadata": {},
   "outputs": [],
   "source": [
    "# Load dataset from a CSV file\n",
    "data = pd.read_csv(\"./data.csv\")"
   ]
  },
  {
   "cell_type": "code",
   "execution_count": null,
   "id": "05f33293-938f-402f-87e7-a732345a61b1",
   "metadata": {},
   "outputs": [],
   "source": [
    "# Check for missing values and handle them by filling with the median of each column\n",
    "data.fillna(data.median(), inplace=True)"
   ]
  },
  {
   "cell_type": "code",
   "execution_count": null,
   "id": "da1a8a27-85b2-48a6-82de-cb70ce355c48",
   "metadata": {},
   "outputs": [],
   "source": [
    "# Separate features (X) and target variable (y)\n",
    "X = data.drop(columns=['id', 'target'])  # Drop 'id' and 'target' columns from the features\n",
    "y = data['target']  # Set 'target' column as the target variable"
   ]
  },
  {
   "cell_type": "code",
   "execution_count": null,
   "id": "fb0d1de6-487b-479a-a0ce-0497f7840cec",
   "metadata": {},
   "outputs": [],
   "source": [
    "# Standardize features (scale to have mean=0 and variance=1)\n",
    "scaler = StandardScaler()\n",
    "X_scaled = scaler.fit_transform(X)"
   ]
  },
  {
   "cell_type": "code",
   "execution_count": null,
   "id": "5294a8af-6c6f-436c-b359-bd5092fb6d29",
   "metadata": {},
   "outputs": [],
   "source": [
    "# Handle class imbalance using SMOTE (Synthetic Minority Over-sampling Technique)\n",
    "smote = SMOTE(random_state=42, k_neighbors=3)  # Use SMOTE with k_neighbors set to 3\n",
    "X_resampled, y_resampled = smote.fit_resample(X_scaled, y)  # Resample the dataset to balance the classes"
   ]
  },
  {
   "cell_type": "code",
   "execution_count": null,
   "id": "05dfd5f2-a64b-4620-80bb-75c3e2004b12",
   "metadata": {},
   "outputs": [],
   "source": [
    "# Split the dataset into training and testing sets (80% training, 20% testing)\n",
    "X_train, X_test, y_train, y_test = train_test_split(\n",
    "    X_resampled, y_resampled, test_size=0.2, random_state=42, stratify=y_resampled\n",
    ")"
   ]
  },
  {
   "cell_type": "code",
   "execution_count": null,
   "id": "94f9b7d7-5667-4ad5-98d2-0f1e18ee1302",
   "metadata": {},
   "outputs": [],
   "source": [
    "# Model 1: Random Forest Classifier\n",
    "rf = RandomForestClassifier(n_estimators=100, random_state=42)  # Initialize the RandomForestClassifier with 100 trees\n",
    "rf.fit(X_train, y_train)  # Train the model using training data\n",
    "y_pred_rf = rf.predict(X_test)  # Predict the target for the test data\n",
    "rf_f1 = f1_score(y_test, y_pred_rf, average='macro')  # Calculate F1-score (macro-average)\n",
    "print(f\"Random Forest F1-score: {rf_f1:.4f}\")  # Output the F1-score for Random Forest"
   ]
  },
  {
   "cell_type": "code",
   "execution_count": null,
   "id": "12d12c4c-4e30-4034-886c-38896f321ba5",
   "metadata": {},
   "outputs": [],
   "source": [
    "# Model 2: K-Nearest Neighbors (KNN) Classifier\n",
    "knn = KNeighborsClassifier(n_neighbors=5)  # Initialize KNN with 5 neighbors\n",
    "knn.fit(X_train, y_train)  # Train the model\n",
    "y_pred_knn = knn.predict(X_test)  # Predict the target for the test data\n",
    "knn_f1 = f1_score(y_test, y_pred_knn, average='macro')  # Calculate F1-score (macro-average)\n",
    "print(f\"KNN F1-score: {knn_f1:.4f}\")  # Output the F1-score for KNN"
   ]
  },
  {
   "cell_type": "code",
   "execution_count": null,
   "id": "7f90a59d-4e50-47d1-8078-397c555a6f34",
   "metadata": {},
   "outputs": [],
   "source": [
    "# Model 3: Gradient Boosting Decision Trees using LightGBM\n",
    "trainX = lgb.Dataset(X_train, y_train)  # Prepare the training data for LightGBM"
   ]
  },
  {
   "cell_type": "code",
   "execution_count": null,
   "id": "0462d187-f734-482e-a8c3-20fd7d0bdbb8",
   "metadata": {},
   "outputs": [],
   "source": [
    "# Set parameters for LightGBM (Gradient Boosting Decision Trees)\n",
    "params = {\n",
    "    'boosting_type': 'gbdt',  # Use the Gradient Boosting Decision Tree algorithm\n",
    "    'objective': 'multiclass',  # Specify that this is a multiclass classification problem\n",
    "    'metric': 'multi_logloss',  # Use multi-class log loss as the evaluation metric\n",
    "    'max_depth': 5,  # Limit the maximum depth of trees\n",
    "    'num_leaves': 3,  # Limit the maximum number of leaves in each tree\n",
    "    'learning_rate': 0.01,  # Set the learning rate\n",
    "    'feature_fraction': 0.7,  # Use 70% of features for each iteration\n",
    "    'bagging_fraction': 0.7,  # Use 70% of data samples for each iteration\n",
    "    'bagging_freq': 15,  # Perform bagging every 15 iterations\n",
    "    'verbose': -1,  # Suppress LightGBM's output\n",
    "    'num_class': 3  # Number of classes in the target variable\n",
    "}"
   ]
  },
  {
   "cell_type": "code",
   "execution_count": null,
   "id": "beff1b99-4b1e-4be1-9aab-98b855ef2ea1",
   "metadata": {},
   "outputs": [],
   "source": [
    "# Train the LightGBM model\n",
    "gbm = lgb.train(params, trainX, 1000, feature_name=list(X.columns))"
   ]
  },
  {
   "cell_type": "code",
   "execution_count": null,
   "id": "fda942b0-0d18-4f0b-8dc8-849b6faf3402",
   "metadata": {},
   "outputs": [],
   "source": [
    "# Predict the target for the test data using the trained model\n",
    "y_test_pred = gbm.predict(X_test)\n",
    "y_pred_gbdt = np.argmax(y_test_pred, axis=1)  # Convert probability predictions to class labels"
   ]
  },
  {
   "cell_type": "code",
   "execution_count": 1,
   "id": "77feaae0-625d-4366-b541-6ae9964d0a94",
   "metadata": {},
   "outputs": [
    {
     "ename": "NameError",
     "evalue": "name 'f1_score' is not defined",
     "output_type": "error",
     "traceback": [
      "\u001b[1;31m---------------------------------------------------------------------------\u001b[0m",
      "\u001b[1;31mNameError\u001b[0m                                 Traceback (most recent call last)",
      "Cell \u001b[1;32mIn[1], line 2\u001b[0m\n\u001b[0;32m      1\u001b[0m \u001b[38;5;66;03m# Calculate F1-score (macro-average) for LightGBM model\u001b[39;00m\n\u001b[1;32m----> 2\u001b[0m gbdt_f1 \u001b[38;5;241m=\u001b[39m f1_score(y_test, y_pred_gbdt, average\u001b[38;5;241m=\u001b[39m\u001b[38;5;124m'\u001b[39m\u001b[38;5;124mmacro\u001b[39m\u001b[38;5;124m'\u001b[39m)\n\u001b[0;32m      3\u001b[0m \u001b[38;5;28mprint\u001b[39m(\u001b[38;5;124mf\u001b[39m\u001b[38;5;124m\"\u001b[39m\u001b[38;5;124mLightGBM F1-score: \u001b[39m\u001b[38;5;132;01m{\u001b[39;00mgbdt_f1\u001b[38;5;132;01m:\u001b[39;00m\u001b[38;5;124m.4f\u001b[39m\u001b[38;5;132;01m}\u001b[39;00m\u001b[38;5;124m\"\u001b[39m)\n",
      "\u001b[1;31mNameError\u001b[0m: name 'f1_score' is not defined"
     ]
    }
   ],
   "source": [
    "# Calculate F1-score (macro-average) for LightGBM model\n",
    "gbdt_f1 = f1_score(y_test, y_pred_gbdt, average='macro')\n",
    "print(f\"LightGBM F1-score: {gbdt_f1:.4f}\")  # Output the F1-score for LightGBM"
   ]
  },
  {
   "cell_type": "code",
   "execution_count": null,
   "id": "a5f68b6e-36a0-4d2d-91a4-de002a231b25",
   "metadata": {},
   "outputs": [],
   "source": []
  }
 ],
 "metadata": {
  "kernelspec": {
   "display_name": "Python 3 (ipykernel)",
   "language": "python",
   "name": "python3"
  },
  "language_info": {
   "codemirror_mode": {
    "name": "ipython",
    "version": 3
   },
   "file_extension": ".py",
   "mimetype": "text/x-python",
   "name": "python",
   "nbconvert_exporter": "python",
   "pygments_lexer": "ipython3",
   "version": "3.12.4"
  }
 },
 "nbformat": 4,
 "nbformat_minor": 5
}
